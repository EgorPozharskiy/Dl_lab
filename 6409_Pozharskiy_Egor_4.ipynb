{
  "cells": [
    {
      "cell_type": "markdown",
      "metadata": {
        "id": "qSyXm5zqj38Z"
      },
      "source": [
        "# Лабораторная работа 4"
      ]
    },
    {
      "cell_type": "markdown",
      "metadata": {
        "id": "Bl47_wE_j38Z"
      },
      "source": [
        "Tensorflow 2.x\n",
        "\n",
        "1) Подготовка данных\n",
        "\n",
        "2) Использование Keras Model API\n",
        "\n",
        "3) Использование Keras Sequential + Functional API"
      ]
    },
    {
      "cell_type": "markdown",
      "metadata": {
        "id": "bJDBNinFj38a"
      },
      "source": [
        "https://www.tensorflow.org/tutorials"
      ]
    },
    {
      "cell_type": "markdown",
      "metadata": {
        "id": "_5UXcJzTj38a"
      },
      "source": [
        "Для выполнения лабораторной работы необходимо установить tensorflow версии 2.0 или выше .\n",
        "\n",
        "Рекомендуется использовать возможности Colab'а по обучению моделей на GPU.\n",
        "\n"
      ]
    },
    {
      "cell_type": "code",
      "execution_count": null,
      "metadata": {
        "id": "nbnSAagYj38a"
      },
      "outputs": [],
      "source": [
        "import os\n",
        "import tensorflow as tf\n",
        "import numpy as np\n",
        "import math\n",
        "import timeit\n",
        "import matplotlib.pyplot as plt\n",
        "\n",
        "%matplotlib inline"
      ]
    },
    {
      "cell_type": "markdown",
      "metadata": {
        "id": "H0zGXUKBj38a"
      },
      "source": [
        "# Подготовка данных\n",
        "Загрузите набор данных из предыдущей лабораторной работы."
      ]
    },
    {
      "cell_type": "code",
      "execution_count": null,
      "metadata": {
        "colab": {
          "base_uri": "https://localhost:8080/"
        },
        "id": "WPqGMKb4j38b",
        "outputId": "3e9770b1-a498-41d4-9eaf-f160711c8921"
      },
      "outputs": [
        {
          "output_type": "stream",
          "name": "stdout",
          "text": [
            "Train data shape:  (49000, 28, 28, 1)\n",
            "Train labels shape:  (49000,) int32\n",
            "Validation data shape:  (1000, 28, 28, 1)\n",
            "Validation labels shape:  (1000,)\n",
            "Test data shape:  (10000, 28, 28, 1)\n",
            "Test labels shape:  (10000,)\n"
          ]
        }
      ],
      "source": [
        "def load_mnist(num_training=49000, num_validation=1000, num_test=10000):\n",
        "    \"\"\"\n",
        "    Fetch the CIFAR-10 dataset from the web and perform preprocessing to prepare\n",
        "    it for the two-layer neural net classifier. These are the same steps as\n",
        "    we used for the SVM, but condensed to a single function.\n",
        "    \"\"\"\n",
        "    # Load the raw CIFAR-10 dataset and use appropriate data types and shapes\n",
        "    mnist = tf.keras.datasets.mnist.load_data()\n",
        "    (X_train, y_train), (X_test, y_test) = mnist\n",
        "    X_train = np.asarray(X_train, dtype=np.float32)\n",
        "    y_train = np.asarray(y_train, dtype=np.int32).flatten()\n",
        "    X_test = np.asarray(X_test, dtype=np.float32)\n",
        "    y_test = np.asarray(y_test, dtype=np.int32).flatten()\n",
        "\n",
        "    # Subsample the data\n",
        "    mask = range(num_training, num_training + num_validation)\n",
        "    X_val = X_train[mask]\n",
        "    y_val = y_train[mask]\n",
        "    mask = range(num_training)\n",
        "    X_train = X_train[mask]\n",
        "    y_train = y_train[mask]\n",
        "    mask = range(num_test)\n",
        "    X_test = X_test[mask]\n",
        "    y_test = y_test[mask]\n",
        "\n",
        "    # Normalize the data: subtract the mean pixel and divide by std\n",
        "    mean_pixel = X_train.mean(axis=(0, 1, 2), keepdims=True)\n",
        "    std_pixel = X_train.std(axis=(0, 1, 2), keepdims=True)\n",
        "    X_train = (X_train - mean_pixel) / std_pixel\n",
        "    X_val = (X_val - mean_pixel) / std_pixel\n",
        "    X_test = (X_test - mean_pixel) / std_pixel\n",
        "\n",
        "    return X_train, y_train, X_val, y_val, X_test, y_test\n",
        "\n",
        "# If there are errors with SSL downloading involving self-signed certificates,\n",
        "# it may be that your Python version was recently installed on the current machine.\n",
        "# See: https://github.com/tensorflow/tensorflow/issues/10779\n",
        "# To fix, run the command: /Applications/Python\\ 3.7/Install\\ Certificates.command\n",
        "#   ...replacing paths as necessary.\n",
        "\n",
        "# Invoke the above function to get our data.\n",
        "NHW = (0, 1, 2)\n",
        "X_train, y_train, X_val, y_val, X_test, y_test = load_mnist()\n",
        "X_train = X_train.reshape(-1, 28, 28, 1)\n",
        "X_val = X_val.reshape(-1, 28, 28, 1)\n",
        "X_test = X_test.reshape(-1, 28, 28, 1)\n",
        "print('Train data shape: ', X_train.shape)\n",
        "print('Train labels shape: ', y_train.shape, y_train.dtype)\n",
        "print('Validation data shape: ', X_val.shape)\n",
        "print('Validation labels shape: ', y_val.shape)\n",
        "print('Test data shape: ', X_test.shape)\n",
        "print('Test labels shape: ', y_test.shape)"
      ]
    },
    {
      "cell_type": "code",
      "execution_count": null,
      "metadata": {
        "id": "AIKV9rJBj38b"
      },
      "outputs": [],
      "source": [
        "class Dataset(object):\n",
        "    def __init__(self, X, y, batch_size, shuffle=False):\n",
        "        \"\"\"\n",
        "        Construct a Dataset object to iterate over data X and labels y\n",
        "\n",
        "        Inputs:\n",
        "        - X: Numpy array of data, of any shape\n",
        "        - y: Numpy array of labels, of any shape but with y.shape[0] == X.shape[0]\n",
        "        - batch_size: Integer giving number of elements per minibatch\n",
        "        - shuffle: (optional) Boolean, whether to shuffle the data on each epoch\n",
        "        \"\"\"\n",
        "        assert X.shape[0] == y.shape[0], 'Got different numbers of data and labels'\n",
        "        self.X, self.y = X, y\n",
        "        self.batch_size, self.shuffle = batch_size, shuffle\n",
        "\n",
        "    def __iter__(self):\n",
        "        N, B = self.X.shape[0], self.batch_size\n",
        "        idxs = np.arange(N)\n",
        "        if self.shuffle:\n",
        "            np.random.shuffle(idxs)\n",
        "        return iter((self.X[i:i+B], self.y[i:i+B]) for i in range(0, N, B))\n",
        "\n",
        "\n",
        "train_dset = Dataset(X_train, y_train, batch_size=64, shuffle=True)\n",
        "val_dset = Dataset(X_val, y_val, batch_size=64, shuffle=False)\n",
        "test_dset = Dataset(X_test, y_test, batch_size=64)"
      ]
    },
    {
      "cell_type": "code",
      "execution_count": null,
      "metadata": {
        "colab": {
          "base_uri": "https://localhost:8080/"
        },
        "id": "1X8DtTr5j38b",
        "outputId": "6e51b5f3-b606-4b83-cc31-bc8035dec689"
      },
      "outputs": [
        {
          "output_type": "stream",
          "name": "stdout",
          "text": [
            "0 (64, 28, 28, 1) (64,)\n",
            "1 (64, 28, 28, 1) (64,)\n",
            "2 (64, 28, 28, 1) (64,)\n",
            "3 (64, 28, 28, 1) (64,)\n",
            "4 (64, 28, 28, 1) (64,)\n",
            "5 (64, 28, 28, 1) (64,)\n",
            "6 (64, 28, 28, 1) (64,)\n"
          ]
        }
      ],
      "source": [
        "# We can iterate through a dataset like this:\n",
        "for t, (x, y) in enumerate(train_dset):\n",
        "    print(t, x.shape, y.shape)\n",
        "    if t > 5: break"
      ]
    },
    {
      "cell_type": "code",
      "execution_count": null,
      "metadata": {
        "colab": {
          "base_uri": "https://localhost:8080/"
        },
        "id": "UkuGJGYLj38b",
        "outputId": "1f6dfef7-59d2-410c-b3f8-4d2d24db5b2f"
      },
      "outputs": [
        {
          "output_type": "execute_result",
          "data": {
            "text/plain": [
              "(49000, 28, 28, 1)"
            ]
          },
          "metadata": {},
          "execution_count": 83
        }
      ],
      "source": [
        "train_dset.X.shape"
      ]
    },
    {
      "cell_type": "markdown",
      "metadata": {
        "id": "VpWvmEtbj38c"
      },
      "source": []
    },
    {
      "cell_type": "markdown",
      "metadata": {
        "id": "PxXSbh2Cj38c"
      },
      "source": [
        "\n"
      ]
    },
    {
      "cell_type": "markdown",
      "metadata": {
        "id": "czVfsgI0j38c"
      },
      "source": [
        "#  Keras Model Subclassing API"
      ]
    },
    {
      "cell_type": "markdown",
      "metadata": {
        "id": "lgNm4ZPaj38c"
      },
      "source": [
        "\n",
        "Для реализации собственной модели с помощью Keras Model Subclassing API необходимо выполнить следующие шаги:\n",
        "\n",
        "1) Определить новый класс, который является наследником tf.keras.Model.\n",
        "\n",
        "2) В методе __init__() определить все необходимые слои из модуля tf.keras.layer\n",
        "\n",
        "3) Реализовать прямой проход в методе call() на основе слоев, объявленных в __init__()\n",
        "\n",
        "Ниже приведен пример использования keras API для определения двухслойной полносвязной сети.\n",
        "\n",
        "https://www.tensorflow.org/versions/r2.0/api_docs/python/tf/keras"
      ]
    },
    {
      "cell_type": "code",
      "execution_count": null,
      "metadata": {
        "colab": {
          "base_uri": "https://localhost:8080/"
        },
        "id": "L97aD01Vj38c",
        "outputId": "29558e35-63bb-4645-b195-fbd82c70caed"
      },
      "outputs": [
        {
          "output_type": "stream",
          "name": "stdout",
          "text": [
            "Using device:  /device:GPU:0\n"
          ]
        }
      ],
      "source": [
        "# Set up some global variables\n",
        "USE_GPU = True  # Установка флага, указывающего, следует ли использовать GPU\n",
        "\n",
        "# Проверяем значение флага USE_GPU\n",
        "if USE_GPU:\n",
        "    device = '/device:GPU:0'  # Устанавливаем устройство в GPU, если USE_GPU установлено в True\n",
        "else:\n",
        "    device = '/cpu:0'  # Устанавливаем устройство в CPU, если USE_GPU установлено в False\n",
        "\n",
        "# Constant to control how often we print when training models\n",
        "print_every = 100  # Константа, определяющая, как часто выводить информацию при обучении моделей\n",
        "\n",
        "\n",
        "print('Using device: ', device)\n"
      ]
    },
    {
      "cell_type": "code",
      "execution_count": null,
      "metadata": {
        "colab": {
          "base_uri": "https://localhost:8080/"
        },
        "id": "Tc7M-hDRj38c",
        "outputId": "287be374-c326-43cc-dcdf-ced3b25afed8"
      },
      "outputs": [
        {
          "output_type": "stream",
          "name": "stdout",
          "text": [
            "(64, 10)\n"
          ]
        }
      ],
      "source": [
        "class TwoLayerFC(tf.keras.Model):\n",
        "    def __init__(self, hidden_size, num_classes):\n",
        "        super(TwoLayerFC, self).__init__()\n",
        "        initializer = tf.initializers.VarianceScaling(scale=2.0, seed=42)\n",
        "        self.fc1 = tf.keras.layers.Dense(hidden_size, activation='relu',\n",
        "                                   kernel_initializer=initializer)\n",
        "        self.fc2 = tf.keras.layers.Dense(num_classes, activation='softmax',\n",
        "                                   kernel_initializer=initializer)\n",
        "        self.flatten = tf.keras.layers.Flatten()\n",
        "\n",
        "    def call(self, x, training=False):\n",
        "        x = self.flatten(x)\n",
        "        x = self.fc1(x)\n",
        "        x = self.fc2(x)\n",
        "        return x\n",
        "\n",
        "\n",
        "def test_TwoLayerFC():\n",
        "    \"\"\" A small unit test to exercise the TwoLayerFC model above. \"\"\"\n",
        "    input_size, hidden_size, num_classes = 50, 42, 10\n",
        "    x = tf.zeros((64, input_size))\n",
        "    model = TwoLayerFC(hidden_size, num_classes)\n",
        "    with tf.device(device):\n",
        "        scores = model(x)\n",
        "        print(scores.shape)\n",
        "\n",
        "test_TwoLayerFC()"
      ]
    },
    {
      "cell_type": "markdown",
      "metadata": {
        "id": "5J0OgPAtj38d"
      },
      "source": [
        "Реализуйте трехслойную CNN для вашей задачи классификации.\n",
        "\n",
        "Архитектура сети:\n",
        "    \n",
        "1. Сверточный слой (5 x 5 kernels, zero-padding = 'same')\n",
        "2. Функция активации ReLU\n",
        "3. Сверточный слой (3 x 3 kernels, zero-padding = 'same')\n",
        "4. Функция активации ReLU\n",
        "5. Полносвязный слой\n",
        "6. Функция активации Softmax\n",
        "\n",
        "https://www.tensorflow.org/versions/r2.0/api_docs/python/tf/keras/layers/Conv2D\n",
        "\n",
        "https://www.tensorflow.org/versions/r2.0/api_docs/python/tf/keras/layers/Dense"
      ]
    },
    {
      "cell_type": "code",
      "execution_count": null,
      "metadata": {
        "id": "KPPucpUuj38d"
      },
      "outputs": [],
      "source": [
        "class ThreeLayerConvNet(tf.keras.Model):\n",
        "    def __init__(self, channel_1, channel_2, num_classes):\n",
        "        super(ThreeLayerConvNet, self).__init__()\n",
        "        ########################################################################\n",
        "        # Определение слоев для сверточной нейронной сети.\n",
        "        ########################################################################\n",
        "        self.conv1 = tf.keras.layers.Conv2D(channel_1, (5, 5), padding='same', activation='relu')\n",
        "        self.conv2 = tf.keras.layers.Conv2D(channel_2, (3, 3), padding='same', activation='relu')\n",
        "        self.flatten = tf.keras.layers.Flatten()\n",
        "        self.fc = tf.keras.layers.Dense(num_classes, activation='softmax')\n",
        "\n",
        "    def call(self, x, training=False):\n",
        "        ########################################################################\n",
        "        # Прямой проход для сверточной нейронной сети.\n",
        "        ########################################################################\n",
        "        x = self.conv1(x)\n",
        "        x = self.conv2(x)\n",
        "        x = self.flatten(x)\n",
        "        x = self.fc(x)\n",
        "        return x"
      ]
    },
    {
      "cell_type": "code",
      "execution_count": null,
      "metadata": {
        "colab": {
          "base_uri": "https://localhost:8080/"
        },
        "id": "HuXX4tnbj38d",
        "outputId": "c5619156-3b61-485e-b2b8-94ade0f5804b"
      },
      "outputs": [
        {
          "output_type": "stream",
          "name": "stdout",
          "text": [
            "(64, 10)\n"
          ]
        }
      ],
      "source": [
        "def test_ThreeLayerConvNet():\n",
        "    channel_1, channel_2, num_classes = 12, 8, 10\n",
        "    model = ThreeLayerConvNet(channel_1, channel_2, num_classes)\n",
        "    with tf.device(device):\n",
        "        x = tf.zeros((64, 3, 32, 32))\n",
        "        scores = model(x)\n",
        "        print(scores.shape)\n",
        "\n",
        "test_ThreeLayerConvNet()"
      ]
    },
    {
      "cell_type": "markdown",
      "metadata": {
        "id": "cAIDar84j38d"
      },
      "source": [
        "Пример реализации процесса обучения:"
      ]
    },
    {
      "cell_type": "code",
      "execution_count": null,
      "metadata": {
        "id": "t-5fYSTAj38d"
      },
      "outputs": [],
      "source": [
        "def train_part34(model_init_fn, optimizer_init_fn, num_epochs=1, is_training=False):\n",
        "    \"\"\"\n",
        "    Simple training loop for use with models defined using tf.keras. It trains\n",
        "    a model for one epoch on the CIFAR-10 training set and periodically checks\n",
        "    accuracy on the CIFAR-10 validation set.\n",
        "\n",
        "    Inputs:\n",
        "    - model_init_fn: A function that takes no parameters; when called it\n",
        "      constructs the model we want to train: model = model_init_fn()\n",
        "    - optimizer_init_fn: A function which takes no parameters; when called it\n",
        "      constructs the Optimizer object we will use to optimize the model:\n",
        "      optimizer = optimizer_init_fn()\n",
        "    - num_epochs: The number of epochs to train for\n",
        "\n",
        "    Returns: val_accuracy, a list containing val_accuracy.result()*100 after each iteration\n",
        "    \"\"\"\n",
        "    with tf.device(device):\n",
        "\n",
        "\n",
        "        loss_fn = tf.keras.losses.SparseCategoricalCrossentropy()\n",
        "\n",
        "        model = model_init_fn()\n",
        "        optimizer = optimizer_init_fn()\n",
        "\n",
        "        train_loss = tf.keras.metrics.Mean(name='train_loss')\n",
        "        train_accuracy = tf.keras.metrics.SparseCategoricalAccuracy(name='train_accuracy')\n",
        "\n",
        "        val_loss = tf.keras.metrics.Mean(name='val_loss')\n",
        "        val_accuracy = tf.keras.metrics.SparseCategoricalAccuracy(name='val_accuracy')\n",
        "\n",
        "        t = 0\n",
        "        val_accuracy_results = []  # Список для хранения val_accuracy после каждой итерации\n",
        "        for epoch in range(num_epochs):\n",
        "\n",
        "            # Reset the metrics - https://www.tensorflow.org/alpha/guide/migration_guide#new-style_metrics\n",
        "            train_loss.reset_states()\n",
        "            train_accuracy.reset_states()\n",
        "\n",
        "            for x_np, y_np in train_dset:\n",
        "                with tf.GradientTape() as tape:\n",
        "\n",
        "                    # Use the model function to build the forward pass.\n",
        "                    scores = model(x_np, training=is_training)\n",
        "                    loss = loss_fn(y_np, scores)\n",
        "\n",
        "                    gradients = tape.gradient(loss, model.trainable_variables)\n",
        "                    optimizer.apply_gradients(zip(gradients, model.trainable_variables))\n",
        "\n",
        "                    # Update the metrics\n",
        "                    train_loss.update_state(loss)\n",
        "                    train_accuracy.update_state(y_np, scores)\n",
        "\n",
        "                    if t % print_every == 0:\n",
        "                        val_loss.reset_states()\n",
        "                        val_accuracy.reset_states()\n",
        "                        for test_x, test_y in val_dset:\n",
        "                            # During validation at end of epoch, training set to False\n",
        "                            prediction = model(test_x, training=False)\n",
        "                            t_loss = loss_fn(test_y, prediction)\n",
        "\n",
        "                            val_loss.update_state(t_loss)\n",
        "                            val_accuracy.update_state(test_y, prediction)\n",
        "\n",
        "                        template = 'Iteration {}, Epoch {}, Loss: {}, Accuracy: {}, Val Loss: {}, Val Accuracy: {}'\n",
        "                        print (template.format(t, epoch+1,\n",
        "                                             train_loss.result(),\n",
        "                                             train_accuracy.result()*100,\n",
        "                                             val_loss.result(),\n",
        "                                             val_accuracy.result()*100))\n",
        "                        val_accuracy_results.append(val_accuracy.result()*100)  # Добавляем val_accuracy в список\n",
        "                    t += 1\n",
        "    # Преобразование тензоров в значения\n",
        "    val_accuracy_results_numpy = [val.numpy() for val in val_accuracy_results]\n",
        "    return val_accuracy_results_numpy\n"
      ]
    },
    {
      "cell_type": "code",
      "execution_count": null,
      "metadata": {
        "colab": {
          "base_uri": "https://localhost:8080/"
        },
        "id": "8n83kkFpj38d",
        "outputId": "dcd5e4bd-898c-4caf-aeb1-338a2d90c788"
      },
      "outputs": [
        {
          "output_type": "stream",
          "name": "stdout",
          "text": [
            "Iteration 0, Epoch 1, Loss: 3.061091423034668, Accuracy: 7.8125, Val Loss: 2.6353776454925537, Val Accuracy: 20.100000381469727\n",
            "Iteration 100, Epoch 1, Loss: 0.6486901044845581, Accuracy: 80.30631256103516, Val Loss: 0.5465362071990967, Val Accuracy: 83.20000457763672\n",
            "Iteration 200, Epoch 1, Loss: 0.5134938955307007, Accuracy: 84.65484619140625, Val Loss: 0.4487997889518738, Val Accuracy: 86.29999542236328\n",
            "Iteration 300, Epoch 1, Loss: 0.45332732796669006, Accuracy: 86.5188980102539, Val Loss: 0.4038298428058624, Val Accuracy: 87.30000305175781\n",
            "Iteration 400, Epoch 1, Loss: 0.40937238931655884, Accuracy: 87.87017059326172, Val Loss: 0.35987868905067444, Val Accuracy: 89.20000457763672\n",
            "Iteration 500, Epoch 1, Loss: 0.3856959044933319, Accuracy: 88.60404205322266, Val Loss: 0.344133585691452, Val Accuracy: 90.20000457763672\n",
            "Iteration 600, Epoch 1, Loss: 0.36190658807754517, Accuracy: 89.31208038330078, Val Loss: 0.33807018399238586, Val Accuracy: 90.80000305175781\n",
            "Iteration 700, Epoch 1, Loss: 0.3444284498691559, Accuracy: 89.8537826538086, Val Loss: 0.3121630549430847, Val Accuracy: 90.80000305175781\n"
          ]
        },
        {
          "output_type": "execute_result",
          "data": {
            "text/plain": [
              "[20.1, 83.200005, 86.299995, 87.3, 89.200005, 90.200005, 90.8, 90.8]"
            ]
          },
          "metadata": {},
          "execution_count": 89
        }
      ],
      "source": [
        "hidden_size, num_classes = 4000, 10\n",
        "learning_rate = 1e-2\n",
        "\n",
        "def model_init_fn():\n",
        "    return TwoLayerFC(hidden_size, num_classes)\n",
        "\n",
        "def optimizer_init_fn():\n",
        "    return tf.keras.optimizers.SGD(learning_rate=learning_rate)\n",
        "\n",
        "train_part34(model_init_fn, optimizer_init_fn)"
      ]
    },
    {
      "cell_type": "markdown",
      "metadata": {
        "id": "NtnPxBdnj38e"
      },
      "source": [
        "Обучите трехслойную CNN. В tf.keras.optimizers.SGD укажите Nesterov momentum = 0.9 .\n",
        "\n",
        "https://www.tensorflow.org/versions/r2.0/api_docs/python/tf/optimizers/SGD\n",
        "\n",
        "Значение accuracy на валидационной выборке после 1 эпохи обучения должно быть > 50% ."
      ]
    },
    {
      "cell_type": "code",
      "execution_count": null,
      "metadata": {
        "colab": {
          "base_uri": "https://localhost:8080/"
        },
        "id": "O7am9pNwj38e",
        "outputId": "1973b8d7-0062-4e17-fe57-3e475b5c1cac"
      },
      "outputs": [
        {
          "output_type": "stream",
          "name": "stdout",
          "text": [
            "Iteration 0, Epoch 1, Loss: 2.298362970352173, Accuracy: 7.8125, Val Loss: 2.2909932136535645, Val Accuracy: 10.699999809265137\n",
            "Iteration 100, Epoch 1, Loss: 0.6980978846549988, Accuracy: 80.53836822509766, Val Loss: 0.48076167702674866, Val Accuracy: 84.30000305175781\n",
            "Iteration 200, Epoch 1, Loss: 0.5049687623977661, Accuracy: 85.75870513916016, Val Loss: 0.345444917678833, Val Accuracy: 89.70000457763672\n",
            "Iteration 300, Epoch 1, Loss: 0.404794842004776, Accuracy: 88.4966812133789, Val Loss: 0.20451979339122772, Val Accuracy: 93.0\n",
            "Iteration 400, Epoch 1, Loss: 0.33888041973114014, Accuracy: 90.30548095703125, Val Loss: 0.19713424146175385, Val Accuracy: 93.4000015258789\n",
            "Iteration 500, Epoch 1, Loss: 0.3000856339931488, Accuracy: 91.38909912109375, Val Loss: 0.17276550829410553, Val Accuracy: 94.0\n",
            "Iteration 600, Epoch 1, Loss: 0.2695196270942688, Accuracy: 92.27849578857422, Val Loss: 0.19341063499450684, Val Accuracy: 93.19999694824219\n",
            "Iteration 700, Epoch 1, Loss: 0.2462928742170334, Accuracy: 92.9342041015625, Val Loss: 0.1453482210636139, Val Accuracy: 94.19999694824219\n"
          ]
        },
        {
          "output_type": "execute_result",
          "data": {
            "text/plain": [
              "[10.7, 84.3, 89.700005, 93.0, 93.4, 94.0, 93.2, 94.2]"
            ]
          },
          "metadata": {},
          "execution_count": 90
        }
      ],
      "source": [
        "learning_rate = 3e-3\n",
        "channel_1, channel_2, num_classes = 32, 16, 10\n",
        "\n",
        "def model_init_fn():\n",
        "    ############################################################################\n",
        "    # Создание трехслойной CNN.\n",
        "    ############################################################################\n",
        "    model = ThreeLayerConvNet(channel_1, channel_2, num_classes)\n",
        "    return model\n",
        "\n",
        "def optimizer_init_fn():\n",
        "    ############################################################################\n",
        "    # Инициализация оптимизатора SGD с Nesterov momentum.\n",
        "    ############################################################################\n",
        "    optimizer = tf.keras.optimizers.SGD(learning_rate=learning_rate, momentum=0.9, nesterov=True)\n",
        "    return optimizer\n",
        "\n",
        "train_part34(model_init_fn, optimizer_init_fn)"
      ]
    },
    {
      "cell_type": "markdown",
      "metadata": {
        "id": "NpNy1HE1j38e"
      },
      "source": [
        "# Использование Keras Sequential API для реализации последовательных моделей.\n",
        "\n",
        "Пример для полносвязной сети:"
      ]
    },
    {
      "cell_type": "code",
      "execution_count": null,
      "metadata": {
        "colab": {
          "base_uri": "https://localhost:8080/"
        },
        "id": "N4DHesUsj38e",
        "outputId": "40ba7b8d-636d-46f3-9c1b-8d3ea6ce26a2"
      },
      "outputs": [
        {
          "output_type": "stream",
          "name": "stdout",
          "text": [
            "Iteration 0, Epoch 1, Loss: 2.904587745666504, Accuracy: 7.8125, Val Loss: 2.6004679203033447, Val Accuracy: 19.0\n",
            "Iteration 100, Epoch 1, Loss: 0.6661937236785889, Accuracy: 79.95049285888672, Val Loss: 0.5377596020698547, Val Accuracy: 81.69999694824219\n",
            "Iteration 200, Epoch 1, Loss: 0.5225178003311157, Accuracy: 84.42163848876953, Val Loss: 0.44929206371307373, Val Accuracy: 86.0\n",
            "Iteration 300, Epoch 1, Loss: 0.45913681387901306, Accuracy: 86.22300720214844, Val Loss: 0.4148291349411011, Val Accuracy: 86.69999694824219\n",
            "Iteration 400, Epoch 1, Loss: 0.41346296668052673, Accuracy: 87.67923736572266, Val Loss: 0.3665194809436798, Val Accuracy: 89.5\n",
            "Iteration 500, Epoch 1, Loss: 0.3897799849510193, Accuracy: 88.43251037597656, Val Loss: 0.350651353597641, Val Accuracy: 89.9000015258789\n",
            "Iteration 600, Epoch 1, Loss: 0.36594459414482117, Accuracy: 89.15349578857422, Val Loss: 0.3309897780418396, Val Accuracy: 90.30000305175781\n",
            "Iteration 700, Epoch 1, Loss: 0.34794992208480835, Accuracy: 89.67546081542969, Val Loss: 0.30821314454078674, Val Accuracy: 90.69999694824219\n"
          ]
        },
        {
          "output_type": "execute_result",
          "data": {
            "text/plain": [
              "[19.0, 81.7, 86.0, 86.7, 89.5, 89.9, 90.3, 90.7]"
            ]
          },
          "metadata": {},
          "execution_count": 73
        }
      ],
      "source": [
        "learning_rate = 1e-2\n",
        "\n",
        "def model_init_fn():\n",
        "    #изменил размер под свои данные\n",
        "    input_shape = (28,28,1)\n",
        "    hidden_layer_size, num_classes = 4000, 10\n",
        "    initializer = tf.initializers.VarianceScaling(scale=2.0)\n",
        "    layers = [\n",
        "        tf.keras.layers.Flatten(input_shape=input_shape),\n",
        "        tf.keras.layers.Dense(hidden_layer_size, activation='relu',\n",
        "                              kernel_initializer=initializer),\n",
        "        tf.keras.layers.Dense(num_classes, activation='softmax',\n",
        "                              kernel_initializer=initializer),\n",
        "    ]\n",
        "    model = tf.keras.Sequential(layers)\n",
        "    return model\n",
        "\n",
        "def optimizer_init_fn():\n",
        "    return tf.keras.optimizers.SGD(learning_rate=learning_rate)\n",
        "\n",
        "train_part34(model_init_fn, optimizer_init_fn)"
      ]
    },
    {
      "cell_type": "markdown",
      "metadata": {
        "id": "0W5_0-T5j38e"
      },
      "source": [
        "Альтернативный менее гибкий способ обучения:"
      ]
    },
    {
      "cell_type": "code",
      "execution_count": null,
      "metadata": {
        "colab": {
          "base_uri": "https://localhost:8080/"
        },
        "id": "TCx0bVT3j38e",
        "outputId": "d702658a-22ae-4efd-b164-458daaa76010"
      },
      "outputs": [
        {
          "output_type": "stream",
          "name": "stdout",
          "text": [
            "766/766 [==============================] - 24s 31ms/step - loss: 0.3459 - sparse_categorical_accuracy: 0.8998 - val_loss: 0.3008 - val_sparse_categorical_accuracy: 0.9140\n",
            "313/313 [==============================] - 3s 10ms/step - loss: 0.2218 - sparse_categorical_accuracy: 0.9351\n"
          ]
        },
        {
          "output_type": "execute_result",
          "data": {
            "text/plain": [
              "[0.22181575000286102, 0.9351000189781189]"
            ]
          },
          "metadata": {},
          "execution_count": 74
        }
      ],
      "source": [
        "model = model_init_fn()\n",
        "model.compile(optimizer=tf.keras.optimizers.SGD(learning_rate=learning_rate),\n",
        "              loss='sparse_categorical_crossentropy',\n",
        "              metrics=[tf.keras.metrics.sparse_categorical_accuracy])\n",
        "model.fit(X_train, y_train, batch_size=64, epochs=1, validation_data=(X_val, y_val))\n",
        "model.evaluate(X_test, y_test)"
      ]
    },
    {
      "cell_type": "markdown",
      "metadata": {
        "id": "b1a14J4wj38e"
      },
      "source": [
        "Перепишите реализацию трехслойной CNN с помощью tf.keras.Sequential API . Обучите модель двумя способами."
      ]
    },
    {
      "cell_type": "code",
      "execution_count": null,
      "metadata": {
        "colab": {
          "base_uri": "https://localhost:8080/"
        },
        "id": "Ba5FL5ucj38e",
        "outputId": "bbc3d120-2613-4321-fa22-34f4cf046c38"
      },
      "outputs": [
        {
          "output_type": "stream",
          "name": "stdout",
          "text": [
            "Iteration 0, Epoch 1, Loss: 2.3262243270874023, Accuracy: 3.125, Val Loss: 2.1592679023742676, Val Accuracy: 27.700000762939453\n",
            "Iteration 100, Epoch 1, Loss: 0.3918904960155487, Accuracy: 88.42821502685547, Val Loss: 0.2755052149295807, Val Accuracy: 90.69999694824219\n",
            "Iteration 200, Epoch 1, Loss: 0.27461543679237366, Accuracy: 91.66667175292969, Val Loss: 0.3086024820804596, Val Accuracy: 89.70000457763672\n",
            "Iteration 300, Epoch 1, Loss: 0.2162046730518341, Accuracy: 93.45930480957031, Val Loss: 0.10124920308589935, Val Accuracy: 96.5999984741211\n",
            "Iteration 400, Epoch 1, Loss: 0.17914971709251404, Accuracy: 94.53709411621094, Val Loss: 0.11774175614118576, Val Accuracy: 95.80000305175781\n",
            "Iteration 500, Epoch 1, Loss: 0.1585817039012909, Accuracy: 95.20646667480469, Val Loss: 0.09383785724639893, Val Accuracy: 97.0\n",
            "Iteration 600, Epoch 1, Loss: 0.1431358903646469, Accuracy: 95.66607666015625, Val Loss: 0.11915887147188187, Val Accuracy: 96.80000305175781\n",
            "Iteration 700, Epoch 1, Loss: 0.1319383680820465, Accuracy: 96.0079345703125, Val Loss: 0.08988085389137268, Val Accuracy: 96.80000305175781\n"
          ]
        },
        {
          "output_type": "execute_result",
          "data": {
            "text/plain": [
              "[27.7, 90.7, 89.700005, 96.6, 95.8, 97.0, 96.8, 96.8]"
            ]
          },
          "metadata": {},
          "execution_count": 75
        }
      ],
      "source": [
        "def model_init_fn():\n",
        "    model = tf.keras.Sequential([\n",
        "        # Первый сверточный слой\n",
        "        tf.keras.layers.Conv2D(32, (5, 5), padding='same', activation='relu', input_shape=(28, 28, 1)),\n",
        "        # Первый пулинг слой\n",
        "        tf.keras.layers.MaxPooling2D((2, 2), strides=(2, 2)),\n",
        "        # Второй сверточный слой\n",
        "        tf.keras.layers.Conv2D(64, (5, 5), padding='same', activation='relu'),\n",
        "        # Второй пулинг слой\n",
        "        tf.keras.layers.MaxPooling2D((2, 2), strides=(2, 2)),\n",
        "        # Разворачиваем данные перед подачей на полносвязный слой\n",
        "        tf.keras.layers.Flatten(),\n",
        "        # Полносвязный слой с relu активацией\n",
        "        tf.keras.layers.Dense(1024, activation='relu'),\n",
        "        # Выходной слой с softmax активацией\n",
        "        tf.keras.layers.Dense(10, activation='softmax')\n",
        "    ])\n",
        "    return model\n",
        "\n",
        "learning_rate = 5e-4\n",
        "\n",
        "def optimizer_init_fn():\n",
        "    optimizer = tf.keras.optimizers.Adam(learning_rate=learning_rate)\n",
        "    return optimizer\n",
        "\n",
        "train_part34(model_init_fn, optimizer_init_fn)"
      ]
    },
    {
      "cell_type": "code",
      "execution_count": null,
      "metadata": {
        "colab": {
          "base_uri": "https://localhost:8080/"
        },
        "id": "1Eimr1r1j38f",
        "outputId": "3c194c69-8c22-4f78-e502-a9be9cde47d9"
      },
      "outputs": [
        {
          "output_type": "stream",
          "name": "stdout",
          "text": [
            "766/766 [==============================] - 143s 186ms/step - loss: 0.3818 - sparse_categorical_accuracy: 0.8939 - val_loss: 0.1583 - val_sparse_categorical_accuracy: 0.9490\n",
            "313/313 [==============================] - 9s 30ms/step - loss: 0.1152 - sparse_categorical_accuracy: 0.9669\n"
          ]
        },
        {
          "output_type": "execute_result",
          "data": {
            "text/plain": [
              "[0.11515253037214279, 0.9668999910354614]"
            ]
          },
          "metadata": {},
          "execution_count": 76
        }
      ],
      "source": [
        "model = model_init_fn()\n",
        "model.compile(optimizer='sgd',\n",
        "              loss='sparse_categorical_crossentropy',\n",
        "              metrics=[tf.keras.metrics.sparse_categorical_accuracy])\n",
        "model.fit(X_train, y_train, batch_size=64, epochs=1, validation_data=(X_val, y_val))\n",
        "model.evaluate(X_test, y_test)"
      ]
    },
    {
      "cell_type": "markdown",
      "metadata": {
        "id": "Fhfwr7Q8j38f"
      },
      "source": [
        "# Использование Keras Functional API\n",
        "\n",
        "Для реализации более сложных архитектур сети с несколькими входами/выходами, повторным использованием слоев, \"остаточными\" связями (residual connections) необходимо явно указать входные и выходные тензоры.\n",
        "\n",
        "Ниже представлен пример для полносвязной сети."
      ]
    },
    {
      "cell_type": "code",
      "execution_count": null,
      "metadata": {
        "colab": {
          "base_uri": "https://localhost:8080/"
        },
        "id": "g2qqkbUYj38f",
        "outputId": "070e85a8-1083-47fd-ffb3-0b8a37151aa6"
      },
      "outputs": [
        {
          "output_type": "stream",
          "name": "stdout",
          "text": [
            "(64, 10)\n"
          ]
        }
      ],
      "source": [
        "def two_layer_fc_functional(input_shape, hidden_size, num_classes):\n",
        "    initializer = tf.initializers.VarianceScaling(scale=2.0)\n",
        "    inputs = tf.keras.Input(shape=input_shape)\n",
        "    flattened_inputs = tf.keras.layers.Flatten()(inputs)\n",
        "    fc1_output = tf.keras.layers.Dense(hidden_size, activation='relu',\n",
        "                                 kernel_initializer=initializer)(flattened_inputs)\n",
        "    scores = tf.keras.layers.Dense(num_classes, activation='softmax',\n",
        "                             kernel_initializer=initializer)(fc1_output)\n",
        "\n",
        "    # Instantiate the model given inputs and outputs.\n",
        "    model = tf.keras.Model(inputs=inputs, outputs=scores)\n",
        "    return model\n",
        "\n",
        "def test_two_layer_fc_functional():\n",
        "    \"\"\" A small unit test to exercise the TwoLayerFC model above. \"\"\"\n",
        "    input_size, hidden_size, num_classes = 50, 42, 10\n",
        "    input_shape = (50,)\n",
        "\n",
        "    x = tf.zeros((64, input_size))\n",
        "    model = two_layer_fc_functional(input_shape, hidden_size, num_classes)\n",
        "\n",
        "    with tf.device(device):\n",
        "        scores = model(x)\n",
        "        print(scores.shape)\n",
        "\n",
        "test_two_layer_fc_functional()"
      ]
    },
    {
      "cell_type": "code",
      "execution_count": null,
      "metadata": {
        "colab": {
          "base_uri": "https://localhost:8080/"
        },
        "id": "NS7bzBVZj38f",
        "outputId": "fb23e5ca-fcd4-4fb1-90d8-b22b98708f53"
      },
      "outputs": [
        {
          "output_type": "stream",
          "name": "stdout",
          "text": [
            "Iteration 0, Epoch 1, Loss: 2.9366397857666016, Accuracy: 12.5, Val Loss: 2.527924060821533, Val Accuracy: 20.299999237060547\n",
            "Iteration 100, Epoch 1, Loss: 0.6420687437057495, Accuracy: 80.21348571777344, Val Loss: 0.5606589913368225, Val Accuracy: 81.0\n",
            "Iteration 200, Epoch 1, Loss: 0.509356677532196, Accuracy: 84.61598205566406, Val Loss: 0.45738887786865234, Val Accuracy: 85.0999984741211\n",
            "Iteration 300, Epoch 1, Loss: 0.45254045724868774, Accuracy: 86.40469360351562, Val Loss: 0.41787296533584595, Val Accuracy: 86.69999694824219\n",
            "Iteration 400, Epoch 1, Loss: 0.40941914916038513, Accuracy: 87.74937438964844, Val Loss: 0.3659650683403015, Val Accuracy: 89.30000305175781\n",
            "Iteration 500, Epoch 1, Loss: 0.3858957290649414, Accuracy: 88.454345703125, Val Loss: 0.34306827187538147, Val Accuracy: 89.80000305175781\n",
            "Iteration 600, Epoch 1, Loss: 0.36345019936561584, Accuracy: 89.13529205322266, Val Loss: 0.3309650719165802, Val Accuracy: 90.10000610351562\n",
            "Iteration 700, Epoch 1, Loss: 0.34616586565971375, Accuracy: 89.64649200439453, Val Loss: 0.31468939781188965, Val Accuracy: 90.30000305175781\n"
          ]
        },
        {
          "output_type": "execute_result",
          "data": {
            "text/plain": [
              "[20.3, 81.0, 85.1, 86.7, 89.3, 89.8, 90.100006, 90.3]"
            ]
          },
          "metadata": {},
          "execution_count": 78
        }
      ],
      "source": [
        "input_shape = (28, 28, 1)\n",
        "hidden_size, num_classes = 4000, 10\n",
        "learning_rate = 1e-2\n",
        "\n",
        "def model_init_fn():\n",
        "    return two_layer_fc_functional(input_shape, hidden_size, num_classes)\n",
        "\n",
        "def optimizer_init_fn():\n",
        "    return tf.keras.optimizers.SGD(learning_rate=learning_rate)\n",
        "\n",
        "train_part34(model_init_fn, optimizer_init_fn)"
      ]
    },
    {
      "cell_type": "markdown",
      "metadata": {
        "id": "Frk9Rneqj38f"
      },
      "source": []
    },
    {
      "cell_type": "markdown",
      "metadata": {
        "id": "Ev0G9EThj38f"
      },
      "source": [
        "Поэкспериментируйте с архитектурой сверточной сети. Для вашего набора данных вам необходимо получить как минимум 70% accuracy на валидационной выборке за 10 эпох обучения. Опишите все эксперименты и сделайте выводы (без выполнения данного пункта работы приниматься не будут).\n",
        "\n",
        "Эспериментируйте с архитектурой, гиперпараметрами, функцией потерь, регуляризацией, методом оптимизации.  \n",
        "\n",
        "https://www.tensorflow.org/versions/r2.0/api_docs/python/tf/keras/layers/BatchNormalization#methods https://www.tensorflow.org/versions/r2.0/api_docs/python/tf/keras/layers/Dropout#methods"
      ]
    },
    {
      "cell_type": "markdown",
      "metadata": {
        "id": "rJaHkOmBj38f"
      },
      "source": [
        "CustomConvNet_B_D имеет более глубокую архитектуру с четырьмя сверточными слоями, в то время как остальные две модели содержат только два сверточных слоя.\n",
        "CustomConvNet_B_D использует функцию активации ReLU, в то время как CustomConvNet_Sig применяет сигмоидальную функцию активации.\n",
        "CustomConvNet не использует сигмоидальную функцию активации и имеет слои макспулинга после сверточных слоев"
      ]
    },
    {
      "cell_type": "code",
      "execution_count": null,
      "metadata": {
        "id": "98FUu78jj38f"
      },
      "outputs": [],
      "source": [
        "class CustomConvNet_B_D(tf.keras.Model):\n",
        "    def __init__(self):\n",
        "        super(CustomConvNet_B_D, self).__init__()\n",
        "        channel_1, channel_2, channel_3, channel_4, num_classes = 28, 14, 14, 14, 10\n",
        "        dp_rate = 0.2\n",
        "        initializer = tf.initializers.VarianceScaling(scale=2.0)\n",
        "\n",
        "        self.conv1 = tf.keras.layers.Conv2D(channel_1, [3,3], [1,1], padding='same',\n",
        "                                  kernel_initializer=initializer)\n",
        "        self.bn1 = tf.keras.layers.BatchNormalization()\n",
        "        self.relu1 = tf.keras.layers.ReLU()\n",
        "        self.dp1 = tf.keras.layers.Dropout(rate=dp_rate)\n",
        "\n",
        "        self.conv2 = tf.keras.layers.Conv2D(channel_2, [3,3], [1,1], padding='same',\n",
        "                                  kernel_initializer=initializer)\n",
        "        self.bn2 = tf.keras.layers.BatchNormalization()\n",
        "        self.relu2 = tf.keras.layers.ReLU()\n",
        "        self.dp2 = tf.keras.layers.Dropout(rate=dp_rate)\n",
        "\n",
        "        self.conv3 = tf.keras.layers.Conv2D(channel_3, [3,3], [1,1], padding='same',\n",
        "                                  kernel_initializer=initializer)\n",
        "        self.bn3 = tf.keras.layers.BatchNormalization()\n",
        "        self.relu3 = tf.keras.layers.ReLU()\n",
        "        self.dp3 = tf.keras.layers.Dropout(rate=dp_rate)\n",
        "\n",
        "        self.conv4 = tf.keras.layers.Conv2D(channel_4, [3,3], [1,1], padding='same',\n",
        "                                  kernel_initializer=initializer)\n",
        "        self.bn4 = tf.keras.layers.BatchNormalization()\n",
        "        self.relu4 = tf.keras.layers.ReLU()\n",
        "        self.dp4 = tf.keras.layers.Dropout(rate=dp_rate)\n",
        "\n",
        "        self.fl = tf.keras.layers.Flatten()\n",
        "        self.fc1 = tf.keras.layers.Dense(num_classes * 2,\n",
        "                                  activation='relu',\n",
        "                                  kernel_initializer=initializer)\n",
        "        self.fc2 = tf.keras.layers.Dense(num_classes,\n",
        "                                  activation='softmax',\n",
        "                                  kernel_initializer=initializer)\n",
        "\n",
        "    def call(self, input_tensor, training=False):\n",
        "        x = input_tensor\n",
        "        x = self.conv1(x)\n",
        "        x = self.bn1(x)\n",
        "        x = self.relu1(x)\n",
        "        x = self.dp1(x)\n",
        "\n",
        "        x = self.conv2(x)\n",
        "        x = self.bn2(x)\n",
        "        x = self.relu2(x)\n",
        "        x = self.dp2(x)\n",
        "\n",
        "        x = self.conv3(x)\n",
        "        x = self.bn3(x)\n",
        "        x = self.relu3(x)\n",
        "        x = self.dp3(x)\n",
        "\n",
        "        x = self.conv4(x)\n",
        "        x = self.bn4(x)\n",
        "        x = self.relu4(x)\n",
        "        x = self.dp4(x)\n",
        "\n",
        "        x = self.fl(x)\n",
        "        x = self.fc1(x)\n",
        "        x = self.fc2(x)\n",
        "\n",
        "        return x"
      ]
    },
    {
      "cell_type": "code",
      "execution_count": null,
      "metadata": {
        "id": "H3hpXAKYj38g"
      },
      "outputs": [],
      "source": [
        "class CustomConvNet(tf.keras.Model):\n",
        "    def __init__(self):\n",
        "        super(CustomConvNet, self).__init__()\n",
        "\n",
        "        channel_1, channel_2, num_classes = 32, 64, 10\n",
        "        dp_rate = 0.2\n",
        "        initializer = tf.initializers.VarianceScaling(scale=2.0)\n",
        "\n",
        "        self.conv1 = tf.keras.layers.Conv2D(channel_1, [3,3], [1,1], padding='same',\n",
        "                                  kernel_initializer=initializer)\n",
        "        self.bn1 = tf.keras.layers.BatchNormalization()\n",
        "        self.relu1 = tf.keras.layers.ReLU()\n",
        "        self.maxpool1 = tf.keras.layers.MaxPool2D(pool_size=[2,2], strides=2)\n",
        "\n",
        "        self.conv2 = tf.keras.layers.Conv2D(channel_2, [3,3], [1,1], padding='same',\n",
        "                                  kernel_initializer=initializer)\n",
        "        self.bn2 = tf.keras.layers.BatchNormalization()\n",
        "        self.relu2 = tf.keras.layers.ReLU()\n",
        "        self.maxpool2 = tf.keras.layers.MaxPool2D(pool_size=[2,2], strides=2)\n",
        "\n",
        "        self.fl = tf.keras.layers.Flatten()\n",
        "        self.fc = tf.keras.layers.Dense(num_classes,\n",
        "                                  activation='softmax',\n",
        "                                  kernel_initializer=initializer)\n",
        "\n",
        "\n",
        "    def call(self, input_tensor, training=False):\n",
        "        x = input_tensor\n",
        "\n",
        "        x = self.conv1(x)\n",
        "        x = self.bn1(x)\n",
        "        x = self.relu1(x)\n",
        "        x = self.maxpool1(x)\n",
        "\n",
        "        x = self.conv2(x)\n",
        "        x = self.bn2(x)\n",
        "        x = self.relu2(x)\n",
        "        x = self.maxpool2(x)\n",
        "\n",
        "        x = self.fl(x)\n",
        "        x = self.fc(x)\n",
        "\n",
        "        return x"
      ]
    },
    {
      "cell_type": "code",
      "execution_count": null,
      "metadata": {
        "id": "UH4ANdVMj38n"
      },
      "outputs": [],
      "source": [
        "class CustomConvNet_Sig(tf.keras.Model):\n",
        "    def __init__(self):\n",
        "        super(CustomConvNet_Sig, self).__init__()\n",
        "\n",
        "        channel_1, channel_2, num_classes = 28, 14, 10\n",
        "        dp_rate = 0.2\n",
        "        initializer = tf.initializers.VarianceScaling(scale=2.0)\n",
        "\n",
        "        self.conv1 = tf.keras.layers.Conv2D(channel_1, [3, 3], [1, 1], padding='same',\n",
        "                                            kernel_initializer=initializer)\n",
        "        self.bn1 = tf.keras.layers.BatchNormalization()\n",
        "        self.relu1 = tf.keras.layers.ReLU()\n",
        "        self.max_pool1 = tf.keras.layers.MaxPooling2D(pool_size=[2, 2], strides=[2, 2])\n",
        "\n",
        "        self.conv2 = tf.keras.layers.Conv2D(channel_2, [3, 3], [1, 1], padding='same',\n",
        "                                            kernel_initializer=initializer)\n",
        "        self.bn2 = tf.keras.layers.BatchNormalization()\n",
        "        self.relu2 = tf.keras.layers.ReLU()\n",
        "        self.max_pool2 = tf.keras.layers.MaxPooling2D(pool_size=[2, 2], strides=[2, 2])\n",
        "\n",
        "        self.fl = tf.keras.layers.Flatten()\n",
        "        self.fc = tf.keras.layers.Dense(num_classes,\n",
        "                                        activation='softmax',\n",
        "                                        kernel_initializer=initializer)\n",
        "\n",
        "    def call(self, input_tensor, training=False):\n",
        "\n",
        "        x = self.conv1(input_tensor)\n",
        "        x = self.bn1(x)\n",
        "        x = tf.keras.activations.sigmoid(x)\n",
        "        x = self.max_pool1(x)\n",
        "\n",
        "        x = self.conv2(x)\n",
        "        x = self.bn2(x)\n",
        "        x = tf.keras.activations.sigmoid(x)\n",
        "        x = self.max_pool2(x)\n",
        "\n",
        "        x = self.fl(x)\n",
        "        x = self.fc(x)\n",
        "\n",
        "        return x"
      ]
    },
    {
      "cell_type": "code",
      "execution_count": null,
      "metadata": {
        "id": "ZyBo_81mj38n"
      },
      "outputs": [],
      "source": [
        "print_every = 500\n",
        "num_epochs = 10\n",
        "# Задаем параметры эксперимента\n",
        "configs = [\n",
        "    {\n",
        "        \"model\": \"CustomConvNet_B_D\",\n",
        "        \"optimizer\": \"Adam\",\n",
        "        \"learning_rate\": 1e-3\n",
        "    },\n",
        "    {\n",
        "        \"model\": \"CustomConvNet_B_D\",\n",
        "        \"optimizer\": \"Adam\",\n",
        "        \"learning_rate\": 1e-4\n",
        "    },\n",
        "    {\n",
        "        \"model\": \"CustomConvNet_B_D\",\n",
        "        \"optimizer\": \"SGD\",\n",
        "        \"learning_rate\": 1e-3\n",
        "    },\n",
        "    {\n",
        "        \"model\": \"CustomConvNet\",\n",
        "        \"optimizer\": \"Adam\",\n",
        "        \"learning_rate\": 1e-3,\n",
        "    },\n",
        "    {\n",
        "        \"model\": \"CustomConvNet\",\n",
        "        \"optimizer\": \"Adam\",\n",
        "        \"learning_rate\": 1e-4,\n",
        "    },\n",
        "    {\n",
        "        \"model\": \"CustomConvNet\",\n",
        "        \"optimizer\": \"SGD\",\n",
        "        \"learning_rate\": 1e-3,\n",
        "    },\n",
        "    {\n",
        "        \"model\": \"CustomConvNet_Sig\",\n",
        "        \"optimizer\": \"Adam\",\n",
        "        \"learning_rate\": 1e-3,\n",
        "    },\n",
        "    {\n",
        "        \"model\": \"CustomConvNet_Sig\",\n",
        "        \"optimizer\": \"Adam\",\n",
        "        \"learning_rate\": 1e-4,\n",
        "    },\n",
        "    {\n",
        "        \"model\": \"CustomConvNet_Sig\",\n",
        "        \"optimizer\": \"SGD\",\n",
        "        \"learning_rate\": 1e-3,\n",
        "    }\n",
        "]\n",
        "\n",
        "# Определяем функции для создания модели и оптимизатора\n",
        "def model_init_fn(model_name):\n",
        "    if model_name == \"CustomConvNet_B_D\":\n",
        "        return CustomConvNet_B_D()\n",
        "    elif model_name == \"CustomConvNet\":\n",
        "        return CustomConvNet()\n",
        "    elif model_name == \"CustomConvNet_Sig\":\n",
        "        return CustomConvNet_Sig()\n",
        "\n",
        "def optimizer_init_fn(optimizer_name, learning_rate):\n",
        "    if optimizer_name == \"Adam\":\n",
        "        return tf.keras.optimizers.Adam(learning_rate)\n",
        "    elif optimizer_name == \"SGD\":\n",
        "        return tf.keras.optimizers.SGD(learning_rate)\n",
        "\n",
        "# Функция для обучения модели\n",
        "def train_model(model_init_fn, optimizer_init_fn, num_epochs, print_every):\n",
        "    model = model_init_fn()\n",
        "    optimizer = optimizer_init_fn()\n",
        "    history = train_part34(model_init_fn, optimizer_init_fn, num_epochs=num_epochs, is_training=True)\n",
        "    print(history)\n",
        "    return history\n"
      ]
    },
    {
      "cell_type": "code",
      "execution_count": null,
      "metadata": {
        "colab": {
          "base_uri": "https://localhost:8080/",
          "height": 1000
        },
        "id": "Tp5R2qaij38o",
        "outputId": "de2b5128-00df-4c65-9540-c64d0f1599a2"
      },
      "outputs": [
        {
          "output_type": "stream",
          "name": "stdout",
          "text": [
            "\n",
            "Experiment with model: CustomConvNet_B_D | optimizer: Adam | learning rate: 0.001\n",
            "Iteration 0, Epoch 1, Loss: 2.856781482696533, Accuracy: 9.375, Val Loss: 2.6928203105926514, Val Accuracy: 12.399999618530273\n",
            "Iteration 500, Epoch 1, Loss: 0.4647004306316376, Accuracy: 85.83457946777344, Val Loss: 0.21077963709831238, Val Accuracy: 93.5999984741211\n",
            "Iteration 1000, Epoch 2, Loss: 0.15165944397449493, Accuracy: 95.50531768798828, Val Loss: 0.1438649445772171, Val Accuracy: 95.0999984741211\n",
            "Iteration 1500, Epoch 2, Loss: 0.1283145695924759, Accuracy: 96.16071319580078, Val Loss: 0.15588515996932983, Val Accuracy: 94.70000457763672\n",
            "Iteration 2000, Epoch 3, Loss: 0.0961507111787796, Accuracy: 97.1715087890625, Val Loss: 0.12440524995326996, Val Accuracy: 95.5\n",
            "Iteration 2500, Epoch 4, Loss: 0.08763812482357025, Accuracy: 97.2752456665039, Val Loss: 0.12928402423858643, Val Accuracy: 96.0\n",
            "Iteration 3000, Epoch 4, Loss: 0.07953690737485886, Accuracy: 97.53955841064453, Val Loss: 0.12954126298427582, Val Accuracy: 96.20000457763672\n",
            "Iteration 3500, Epoch 5, Loss: 0.0706215426325798, Accuracy: 97.81893157958984, Val Loss: 0.10805333405733109, Val Accuracy: 96.10000610351562\n",
            "Iteration 4000, Epoch 6, Loss: 0.06620261818170547, Accuracy: 98.07200622558594, Val Loss: 0.10555922985076904, Val Accuracy: 96.4000015258789\n",
            "Iteration 4500, Epoch 6, Loss: 0.06181757152080536, Accuracy: 98.10450744628906, Val Loss: 0.09532655775547028, Val Accuracy: 97.39999389648438\n",
            "Iteration 5000, Epoch 7, Loss: 0.05285029858350754, Accuracy: 98.25617218017578, Val Loss: 0.08975145220756531, Val Accuracy: 97.5\n",
            "Iteration 5500, Epoch 8, Loss: 0.05902016535401344, Accuracy: 98.07778930664062, Val Loss: 0.08766630291938782, Val Accuracy: 97.5\n",
            "Iteration 6000, Epoch 8, Loss: 0.04979877546429634, Accuracy: 98.43505859375, Val Loss: 0.0947088673710823, Val Accuracy: 97.39999389648438\n",
            "Iteration 6500, Epoch 9, Loss: 0.04737604409456253, Accuracy: 98.51708984375, Val Loss: 0.09192539006471634, Val Accuracy: 97.29999542236328\n",
            "Iteration 7000, Epoch 10, Loss: 0.05035889521241188, Accuracy: 98.40829467773438, Val Loss: 0.10946256667375565, Val Accuracy: 96.20000457763672\n",
            "Iteration 7500, Epoch 10, Loss: 0.044791754335165024, Accuracy: 98.54818725585938, Val Loss: 0.08789687603712082, Val Accuracy: 97.39999389648438\n",
            "[12.4, 93.6, 95.1, 94.700005, 95.5, 96.0, 96.200005, 96.100006, 96.4, 97.399994, 97.5, 97.5, 97.399994, 97.299995, 96.200005, 97.399994]\n",
            "\n",
            "Experiment with model: CustomConvNet_B_D | optimizer: Adam | learning rate: 0.0001\n",
            "Iteration 0, Epoch 1, Loss: 2.901243209838867, Accuracy: 14.0625, Val Loss: 2.427511215209961, Val Accuracy: 12.899999618530273\n",
            "Iteration 500, Epoch 1, Loss: 0.9901765584945679, Accuracy: 67.71768951416016, Val Loss: 0.4511697590351105, Val Accuracy: 87.4000015258789\n",
            "Iteration 1000, Epoch 2, Loss: 0.2747482657432556, Accuracy: 91.98802947998047, Val Loss: 0.28336817026138306, Val Accuracy: 91.0999984741211\n",
            "Iteration 1500, Epoch 2, Loss: 0.22933320701122284, Accuracy: 93.34184265136719, Val Loss: 0.21941548585891724, Val Accuracy: 94.0999984741211\n",
            "Iteration 2000, Epoch 3, Loss: 0.1480291336774826, Accuracy: 95.53904724121094, Val Loss: 0.17371031641960144, Val Accuracy: 94.70000457763672\n",
            "Iteration 2500, Epoch 4, Loss: 0.11790621280670166, Accuracy: 96.40547943115234, Val Loss: 0.14003616571426392, Val Accuracy: 95.80000305175781\n",
            "Iteration 3000, Epoch 4, Loss: 0.10743815451860428, Accuracy: 96.73274993896484, Val Loss: 0.11954078078269958, Val Accuracy: 95.70000457763672\n",
            "Iteration 3500, Epoch 5, Loss: 0.08760352432727814, Accuracy: 97.30763244628906, Val Loss: 0.1324632465839386, Val Accuracy: 95.70000457763672\n",
            "Iteration 4000, Epoch 6, Loss: 0.0759248435497284, Accuracy: 97.64253997802734, Val Loss: 0.141128271818161, Val Accuracy: 95.30000305175781\n",
            "Iteration 4500, Epoch 6, Loss: 0.07423289120197296, Accuracy: 97.70166015625, Val Loss: 0.10797645151615143, Val Accuracy: 96.4000015258789\n",
            "Iteration 5000, Epoch 7, Loss: 0.06278081238269806, Accuracy: 98.14429473876953, Val Loss: 0.08286304026842117, Val Accuracy: 97.5\n",
            "Iteration 5500, Epoch 8, Loss: 0.06485389173030853, Accuracy: 98.12274932861328, Val Loss: 0.08883625268936157, Val Accuracy: 97.5999984741211\n",
            "Iteration 6000, Epoch 8, Loss: 0.05651769042015076, Accuracy: 98.30545806884766, Val Loss: 0.09882108122110367, Val Accuracy: 96.80000305175781\n",
            "Iteration 6500, Epoch 9, Loss: 0.0490855909883976, Accuracy: 98.41655731201172, Val Loss: 0.08852992206811905, Val Accuracy: 97.69999694824219\n",
            "Iteration 7000, Epoch 10, Loss: 0.04834757000207901, Accuracy: 98.58352661132812, Val Loss: 0.09032554179430008, Val Accuracy: 97.29999542236328\n",
            "Iteration 7500, Epoch 10, Loss: 0.04605181887745857, Accuracy: 98.59967041015625, Val Loss: 0.08687862753868103, Val Accuracy: 97.69999694824219\n",
            "[12.9, 87.4, 91.1, 94.1, 94.700005, 95.8, 95.700005, 95.700005, 95.3, 96.4, 97.5, 97.6, 96.8, 97.7, 97.299995, 97.7]\n",
            "\n",
            "Experiment with model: CustomConvNet_B_D | optimizer: SGD | learning rate: 0.001\n",
            "Iteration 0, Epoch 1, Loss: 3.086306095123291, Accuracy: 6.25, Val Loss: 4.523850440979004, Val Accuracy: 8.100000381469727\n",
            "Iteration 500, Epoch 1, Loss: 1.5427733659744263, Accuracy: 44.9881477355957, Val Loss: 0.9341133832931519, Val Accuracy: 73.69999694824219\n",
            "Iteration 1000, Epoch 2, Loss: 0.6266786456108093, Accuracy: 80.625, Val Loss: 0.5955502986907959, Val Accuracy: 83.9000015258789\n",
            "Iteration 1500, Epoch 2, Loss: 0.5343977212905884, Accuracy: 83.7457504272461, Val Loss: 0.4430215358734131, Val Accuracy: 87.5\n",
            "Iteration 2000, Epoch 3, Loss: 0.38827282190322876, Accuracy: 88.46281433105469, Val Loss: 0.36816903948783875, Val Accuracy: 89.4000015258789\n",
            "Iteration 2500, Epoch 4, Loss: 0.3055639863014221, Accuracy: 91.09452056884766, Val Loss: 0.33306625485420227, Val Accuracy: 90.10000610351562\n",
            "Iteration 3000, Epoch 4, Loss: 0.2956809401512146, Accuracy: 91.24066162109375, Val Loss: 0.29242944717407227, Val Accuracy: 91.19999694824219\n",
            "Iteration 3500, Epoch 5, Loss: 0.2593521475791931, Accuracy: 92.1875, Val Loss: 0.2713429033756256, Val Accuracy: 91.9000015258789\n",
            "Iteration 4000, Epoch 6, Loss: 0.22076070308685303, Accuracy: 93.60380554199219, Val Loss: 0.2553033232688904, Val Accuracy: 92.29999542236328\n",
            "Iteration 4500, Epoch 6, Loss: 0.2209758460521698, Accuracy: 93.42399597167969, Val Loss: 0.2333793044090271, Val Accuracy: 92.79999542236328\n",
            "Iteration 5000, Epoch 7, Loss: 0.20177015662193298, Accuracy: 93.9043197631836, Val Loss: 0.23050709068775177, Val Accuracy: 92.79999542236328\n",
            "Iteration 5500, Epoch 8, Loss: 0.19090962409973145, Accuracy: 94.13219451904297, Val Loss: 0.21864834427833557, Val Accuracy: 93.0999984741211\n",
            "Iteration 6000, Epoch 8, Loss: 0.18394719064235687, Accuracy: 94.4371109008789, Val Loss: 0.2058180868625641, Val Accuracy: 93.80000305175781\n",
            "Iteration 6500, Epoch 9, Loss: 0.17644205689430237, Accuracy: 94.7009048461914, Val Loss: 0.2028619945049286, Val Accuracy: 93.80000305175781\n",
            "Iteration 7000, Epoch 10, Loss: 0.14924754202365875, Accuracy: 95.3125, Val Loss: 0.18883393704891205, Val Accuracy: 94.4000015258789\n",
            "Iteration 7500, Epoch 10, Loss: 0.16113176941871643, Accuracy: 95.10399627685547, Val Loss: 0.19262394309043884, Val Accuracy: 93.9000015258789\n",
            "[8.1, 73.7, 83.9, 87.5, 89.4, 90.100006, 91.2, 91.9, 92.299995, 92.799995, 92.799995, 93.1, 93.8, 93.8, 94.4, 93.9]\n",
            "\n",
            "Experiment with model: CustomConvNet | optimizer: Adam | learning rate: 0.001\n",
            "Iteration 0, Epoch 1, Loss: 2.7933762073516846, Accuracy: 10.9375, Val Loss: 3.4923927783966064, Val Accuracy: 15.299999237060547\n",
            "Iteration 500, Epoch 1, Loss: 0.2045665979385376, Accuracy: 93.7000961303711, Val Loss: 0.12085191905498505, Val Accuracy: 96.20000457763672\n",
            "Iteration 1000, Epoch 2, Loss: 0.06553240120410919, Accuracy: 98.00531768798828, Val Loss: 0.10057669878005981, Val Accuracy: 96.30000305175781\n",
            "Iteration 1500, Epoch 2, Loss: 0.062188781797885895, Accuracy: 98.15263366699219, Val Loss: 0.12596452236175537, Val Accuracy: 95.30000305175781\n",
            "Iteration 2000, Epoch 3, Loss: 0.045113906264305115, Accuracy: 98.63406372070312, Val Loss: 0.1223699077963829, Val Accuracy: 95.9000015258789\n",
            "Iteration 2500, Epoch 4, Loss: 0.04335805028676987, Accuracy: 98.68380737304688, Val Loss: 0.10623407363891602, Val Accuracy: 96.69999694824219\n",
            "Iteration 3000, Epoch 4, Loss: 0.0361783541738987, Accuracy: 98.88868713378906, Val Loss: 0.0987212136387825, Val Accuracy: 96.9000015258789\n",
            "Iteration 3500, Epoch 5, Loss: 0.028482504189014435, Accuracy: 99.12042236328125, Val Loss: 0.06351624429225922, Val Accuracy: 97.5999984741211\n",
            "Iteration 4000, Epoch 6, Loss: 0.0256611667573452, Accuracy: 99.1958999633789, Val Loss: 0.08077336102724075, Val Accuracy: 98.0\n",
            "Iteration 4500, Epoch 6, Loss: 0.02243131212890148, Accuracy: 99.32470703125, Val Loss: 0.10280629992485046, Val Accuracy: 97.19999694824219\n",
            "Iteration 5000, Epoch 7, Loss: 0.01645825058221817, Accuracy: 99.52546691894531, Val Loss: 0.08316406607627869, Val Accuracy: 97.29999542236328\n",
            "Iteration 5500, Epoch 8, Loss: 0.017289208248257637, Accuracy: 99.41546630859375, Val Loss: 0.07377366721630096, Val Accuracy: 97.79999542236328\n",
            "Iteration 6000, Epoch 8, Loss: 0.014619898982346058, Accuracy: 99.50361633300781, Val Loss: 0.08914768695831299, Val Accuracy: 98.0\n",
            "Iteration 6500, Epoch 9, Loss: 0.010827068239450455, Accuracy: 99.64812469482422, Val Loss: 0.07102977484464645, Val Accuracy: 98.0999984741211\n",
            "Iteration 7000, Epoch 10, Loss: 0.012272266671061516, Accuracy: 99.59112548828125, Val Loss: 0.10115931928157806, Val Accuracy: 97.5999984741211\n",
            "Iteration 7500, Epoch 10, Loss: 0.009632288478314877, Accuracy: 99.6756591796875, Val Loss: 0.11038954555988312, Val Accuracy: 97.39999389648438\n",
            "[15.299999, 96.200005, 96.3, 95.3, 95.9, 96.7, 96.9, 97.6, 98.0, 97.2, 97.299995, 97.799995, 98.0, 98.1, 97.6, 97.399994]\n",
            "\n",
            "Experiment with model: CustomConvNet | optimizer: Adam | learning rate: 0.0001\n",
            "Iteration 0, Epoch 1, Loss: 3.566612482070923, Accuracy: 7.8125, Val Loss: 4.161282539367676, Val Accuracy: 9.899999618530273\n",
            "Iteration 500, Epoch 1, Loss: 0.6150239109992981, Accuracy: 82.64720153808594, Val Loss: 0.3079696297645569, Val Accuracy: 91.5999984741211\n",
            "Iteration 1000, Epoch 2, Loss: 0.16745252907276154, Accuracy: 95.45877838134766, Val Loss: 0.20023949444293976, Val Accuracy: 93.5999984741211\n",
            "Iteration 1500, Epoch 2, Loss: 0.14045292139053345, Accuracy: 96.12245178222656, Val Loss: 0.16090542078018188, Val Accuracy: 94.5\n",
            "Iteration 2000, Epoch 3, Loss: 0.09609489142894745, Accuracy: 97.34141540527344, Val Loss: 0.14129847288131714, Val Accuracy: 94.80000305175781\n",
            "Iteration 2500, Epoch 4, Loss: 0.07813712954521179, Accuracy: 97.8448257446289, Val Loss: 0.1325850486755371, Val Accuracy: 95.5\n",
            "Iteration 3000, Epoch 4, Loss: 0.07262606173753738, Accuracy: 97.96186065673828, Val Loss: 0.10461094230413437, Val Accuracy: 96.30000305175781\n",
            "Iteration 3500, Epoch 5, Loss: 0.05995338037610054, Accuracy: 98.3659896850586, Val Loss: 0.1003943383693695, Val Accuracy: 96.0\n",
            "Iteration 4000, Epoch 6, Loss: 0.05284643918275833, Accuracy: 98.48318481445312, Val Loss: 0.10065878182649612, Val Accuracy: 96.4000015258789\n",
            "Iteration 4500, Epoch 6, Loss: 0.05117735266685486, Accuracy: 98.57489013671875, Val Loss: 0.08845522999763489, Val Accuracy: 96.5999984741211\n",
            "Iteration 5000, Epoch 7, Loss: 0.04300962761044502, Accuracy: 98.81558227539062, Val Loss: 0.08938433229923248, Val Accuracy: 97.39999389648438\n",
            "Iteration 5500, Epoch 8, Loss: 0.04237645864486694, Accuracy: 98.8309326171875, Val Loss: 0.08898390829563141, Val Accuracy: 96.9000015258789\n",
            "Iteration 6000, Epoch 8, Loss: 0.038770534098148346, Accuracy: 98.906982421875, Val Loss: 0.08053343743085861, Val Accuracy: 97.29999542236328\n",
            "Iteration 6500, Epoch 9, Loss: 0.03329884633421898, Accuracy: 99.07422637939453, Val Loss: 0.08468872308731079, Val Accuracy: 96.69999694824219\n",
            "Iteration 7000, Epoch 10, Loss: 0.03193032741546631, Accuracy: 99.12383270263672, Val Loss: 0.08321011066436768, Val Accuracy: 97.29999542236328\n",
            "Iteration 7500, Epoch 10, Loss: 0.030857441946864128, Accuracy: 99.17112731933594, Val Loss: 0.08482787758111954, Val Accuracy: 97.19999694824219\n",
            "[9.9, 91.6, 93.6, 94.5, 94.8, 95.5, 96.3, 96.0, 96.4, 96.6, 97.399994, 96.9, 97.299995, 96.7, 97.299995, 97.2]\n",
            "\n",
            "Experiment with model: CustomConvNet | optimizer: SGD | learning rate: 0.001\n",
            "Iteration 0, Epoch 1, Loss: 3.0698115825653076, Accuracy: 10.9375, Val Loss: 3.496250629425049, Val Accuracy: 12.600000381469727\n",
            "Iteration 500, Epoch 1, Loss: 0.8186920881271362, Accuracy: 77.15194702148438, Val Loss: 0.493353009223938, Val Accuracy: 87.19999694824219\n",
            "Iteration 1000, Epoch 2, Loss: 0.32973095774650574, Accuracy: 91.60903930664062, Val Loss: 0.3669702112674713, Val Accuracy: 90.80000305175781\n",
            "Iteration 1500, Epoch 2, Loss: 0.29866912961006165, Accuracy: 92.2172622680664, Val Loss: 0.3100696802139282, Val Accuracy: 91.39999389648438\n",
            "Iteration 2000, Epoch 3, Loss: 0.2369690090417862, Accuracy: 93.7633285522461, Val Loss: 0.2770357131958008, Val Accuracy: 92.19999694824219\n",
            "Iteration 2500, Epoch 4, Loss: 0.2036624550819397, Accuracy: 94.70442962646484, Val Loss: 0.25325754284858704, Val Accuracy: 92.29999542236328\n",
            "Iteration 3000, Epoch 4, Loss: 0.1973775327205658, Accuracy: 94.7457275390625, Val Loss: 0.23295485973358154, Val Accuracy: 93.4000015258789\n",
            "Iteration 3500, Epoch 5, Loss: 0.17504790425300598, Accuracy: 95.31607818603516, Val Loss: 0.21911625564098358, Val Accuracy: 93.69999694824219\n",
            "Iteration 4000, Epoch 6, Loss: 0.15888729691505432, Accuracy: 95.6871337890625, Val Loss: 0.2053079903125763, Val Accuracy: 93.80000305175781\n",
            "Iteration 4500, Epoch 6, Loss: 0.15724363923072815, Accuracy: 95.6734390258789, Val Loss: 0.19458121061325073, Val Accuracy: 94.5\n",
            "Iteration 5000, Epoch 7, Loss: 0.14339712262153625, Accuracy: 96.05709838867188, Val Loss: 0.19105353951454163, Val Accuracy: 94.4000015258789\n",
            "Iteration 5500, Epoch 8, Loss: 0.13805633783340454, Accuracy: 96.3354263305664, Val Loss: 0.1817917823791504, Val Accuracy: 94.30000305175781\n",
            "Iteration 6000, Epoch 8, Loss: 0.13280808925628662, Accuracy: 96.39817810058594, Val Loss: 0.1719491183757782, Val Accuracy: 95.0\n",
            "Iteration 6500, Epoch 9, Loss: 0.12443246692419052, Accuracy: 96.61946868896484, Val Loss: 0.16993309557437897, Val Accuracy: 94.9000015258789\n",
            "Iteration 7000, Epoch 10, Loss: 0.1141308918595314, Accuracy: 96.94801330566406, Val Loss: 0.16296148300170898, Val Accuracy: 94.9000015258789\n",
            "Iteration 7500, Epoch 10, Loss: 0.11714936792850494, Accuracy: 96.82351684570312, Val Loss: 0.15792898833751678, Val Accuracy: 95.0999984741211\n",
            "[12.6, 87.2, 90.8, 91.399994, 92.2, 92.299995, 93.4, 93.7, 93.8, 94.5, 94.4, 94.3, 95.0, 94.9, 94.9, 95.1]\n",
            "\n",
            "Experiment with model: CustomConvNet_Sig | optimizer: Adam | learning rate: 0.001\n",
            "Iteration 0, Epoch 1, Loss: 2.6007869243621826, Accuracy: 7.8125, Val Loss: 2.4293434619903564, Val Accuracy: 8.5\n",
            "Iteration 500, Epoch 1, Loss: 0.9162802696228027, Accuracy: 77.52307891845703, Val Loss: 0.5369344353675842, Val Accuracy: 87.0999984741211\n",
            "Iteration 1000, Epoch 2, Loss: 0.2530151605606079, Accuracy: 93.45079803466797, Val Loss: 0.32506945729255676, Val Accuracy: 90.5999984741211\n",
            "Iteration 1500, Epoch 2, Loss: 0.2085215449333191, Accuracy: 94.5174331665039, Val Loss: 0.29864779114723206, Val Accuracy: 90.69999694824219\n",
            "Iteration 2000, Epoch 3, Loss: 0.1400461494922638, Accuracy: 96.12873077392578, Val Loss: 0.2533668577671051, Val Accuracy: 92.4000015258789\n",
            "Iteration 2500, Epoch 4, Loss: 0.1127922534942627, Accuracy: 96.89039611816406, Val Loss: 0.24261227250099182, Val Accuracy: 92.4000015258789\n",
            "Iteration 3000, Epoch 4, Loss: 0.10317894071340561, Accuracy: 97.13282775878906, Val Loss: 0.12482036650180817, Val Accuracy: 96.20000457763672\n",
            "Iteration 3500, Epoch 5, Loss: 0.084846131503582, Accuracy: 97.61512756347656, Val Loss: 0.13179248571395874, Val Accuracy: 96.20000457763672\n",
            "Iteration 4000, Epoch 6, Loss: 0.0762196034193039, Accuracy: 97.77046966552734, Val Loss: 0.12230250239372253, Val Accuracy: 95.9000015258789\n",
            "Iteration 4500, Epoch 6, Loss: 0.07263842225074768, Accuracy: 97.92986297607422, Val Loss: 0.13612887263298035, Val Accuracy: 95.9000015258789\n",
            "Iteration 5000, Epoch 7, Loss: 0.06198110803961754, Accuracy: 98.15200805664062, Val Loss: 0.1667732298374176, Val Accuracy: 95.30000305175781\n",
            "Iteration 5500, Epoch 8, Loss: 0.06093635782599449, Accuracy: 98.14523315429688, Val Loss: 0.1524345725774765, Val Accuracy: 95.30000305175781\n",
            "Iteration 6000, Epoch 8, Loss: 0.05586778745055199, Accuracy: 98.38125610351562, Val Loss: 0.13064485788345337, Val Accuracy: 95.0999984741211\n",
            "Iteration 6500, Epoch 9, Loss: 0.04920098930597305, Accuracy: 98.58830261230469, Val Loss: 0.10778159648180008, Val Accuracy: 96.4000015258789\n",
            "Iteration 7000, Epoch 10, Loss: 0.04835151880979538, Accuracy: 98.70034790039062, Val Loss: 0.22136203944683075, Val Accuracy: 91.9000015258789\n",
            "Iteration 7500, Epoch 10, Loss: 0.045998167246580124, Accuracy: 98.66659545898438, Val Loss: 0.09480100125074387, Val Accuracy: 97.19999694824219\n",
            "[8.5, 87.1, 90.6, 90.7, 92.4, 92.4, 96.200005, 96.200005, 95.9, 95.9, 95.3, 95.3, 95.1, 96.4, 91.9, 97.2]\n",
            "\n",
            "Experiment with model: CustomConvNet_Sig | optimizer: Adam | learning rate: 0.0001\n",
            "Iteration 0, Epoch 1, Loss: 2.5720176696777344, Accuracy: 3.125, Val Loss: 2.440216302871704, Val Accuracy: 7.800000190734863\n",
            "Iteration 500, Epoch 1, Loss: 2.065478801727295, Accuracy: 40.85890579223633, Val Loss: 1.8134280443191528, Val Accuracy: 62.0\n",
            "Iteration 1000, Epoch 2, Loss: 1.363372802734375, Accuracy: 75.05984497070312, Val Loss: 1.349279522895813, Val Accuracy: 72.0\n",
            "Iteration 1500, Epoch 2, Loss: 1.1888145208358765, Accuracy: 77.91028594970703, Val Loss: 1.0427275896072388, Val Accuracy: 75.80000305175781\n",
            "Iteration 2000, Epoch 3, Loss: 0.8481960892677307, Accuracy: 83.00240325927734, Val Loss: 0.8616077899932861, Val Accuracy: 80.19999694824219\n",
            "Iteration 2500, Epoch 4, Loss: 0.6437944769859314, Accuracy: 86.83805847167969, Val Loss: 0.7272762656211853, Val Accuracy: 82.5999984741211\n",
            "Iteration 3000, Epoch 4, Loss: 0.6045984625816345, Accuracy: 87.33775329589844, Val Loss: 0.6010195016860962, Val Accuracy: 86.5\n",
            "Iteration 3500, Epoch 5, Loss: 0.48473453521728516, Accuracy: 89.8133544921875, Val Loss: 0.5242494940757751, Val Accuracy: 89.0999984741211\n",
            "Iteration 4000, Epoch 6, Loss: 0.39034682512283325, Accuracy: 91.90424346923828, Val Loss: 0.4616147577762604, Val Accuracy: 89.80000305175781\n",
            "Iteration 4500, Epoch 6, Loss: 0.38268402218818665, Accuracy: 91.71012878417969, Val Loss: 0.41105204820632935, Val Accuracy: 90.9000015258789\n",
            "Iteration 5000, Epoch 7, Loss: 0.3248269855976105, Accuracy: 92.8125, Val Loss: 0.3741869628429413, Val Accuracy: 91.5999984741211\n",
            "Iteration 5500, Epoch 8, Loss: 0.27971866726875305, Accuracy: 93.7724838256836, Val Loss: 0.3315570652484894, Val Accuracy: 92.0\n",
            "Iteration 6000, Epoch 8, Loss: 0.27396079897880554, Accuracy: 93.67908477783203, Val Loss: 0.3068489134311676, Val Accuracy: 92.79999542236328\n",
            "Iteration 6500, Epoch 9, Loss: 0.24335825443267822, Accuracy: 94.30713653564453, Val Loss: 0.2880529463291168, Val Accuracy: 92.5999984741211\n",
            "Iteration 7000, Epoch 10, Loss: 0.2068045735359192, Accuracy: 95.28329467773438, Val Loss: 0.2655687928199768, Val Accuracy: 93.0999984741211\n",
            "Iteration 7500, Epoch 10, Loss: 0.21400198340415955, Accuracy: 94.93409729003906, Val Loss: 0.25209832191467285, Val Accuracy: 93.5\n",
            "[7.8, 62.0, 72.0, 75.8, 80.2, 82.6, 86.5, 89.1, 89.8, 90.9, 91.6, 92.0, 92.799995, 92.6, 93.1, 93.5]\n",
            "\n",
            "Experiment with model: CustomConvNet_Sig | optimizer: SGD | learning rate: 0.001\n",
            "Iteration 0, Epoch 1, Loss: 2.6816954612731934, Accuracy: 12.5, Val Loss: 2.700897216796875, Val Accuracy: 10.800000190734863\n",
            "Iteration 500, Epoch 1, Loss: 2.2836575508117676, Accuracy: 19.969436645507812, Val Loss: 2.2020883560180664, Val Accuracy: 32.10000228881836\n",
            "Iteration 1000, Epoch 2, Loss: 2.0817620754241943, Accuracy: 46.23005294799805, Val Loss: 2.0741183757781982, Val Accuracy: 45.599998474121094\n",
            "Iteration 1500, Epoch 2, Loss: 2.021759510040283, Accuracy: 50.92474365234375, Val Loss: 1.957669734954834, Val Accuracy: 54.70000076293945\n",
            "Iteration 2000, Epoch 3, Loss: 1.8688479661941528, Accuracy: 60.49440383911133, Val Loss: 1.8502671718597412, Val Accuracy: 58.099998474121094\n",
            "Iteration 2500, Epoch 4, Loss: 1.7205466032028198, Accuracy: 66.86421966552734, Val Loss: 1.7423131465911865, Val Accuracy: 62.400001525878906\n",
            "Iteration 3000, Epoch 4, Loss: 1.672324776649475, Accuracy: 68.10543823242188, Val Loss: 1.6410393714904785, Val Accuracy: 65.80000305175781\n",
            "Iteration 3500, Epoch 5, Loss: 1.537704586982727, Accuracy: 72.01087188720703, Val Loss: 1.5487254858016968, Val Accuracy: 68.30000305175781\n",
            "Iteration 4000, Epoch 6, Loss: 1.4096206426620483, Accuracy: 75.73098754882812, Val Loss: 1.461638331413269, Val Accuracy: 69.4000015258789\n",
            "Iteration 4500, Epoch 6, Loss: 1.3789920806884766, Accuracy: 75.52859497070312, Val Loss: 1.3827457427978516, Val Accuracy: 70.70000457763672\n",
            "Iteration 5000, Epoch 7, Loss: 1.2740039825439453, Accuracy: 77.39968872070312, Val Loss: 1.3138487339019775, Val Accuracy: 72.79999542236328\n",
            "Iteration 5500, Epoch 8, Loss: 1.1827197074890137, Accuracy: 79.20413970947266, Val Loss: 1.2460699081420898, Val Accuracy: 73.69999694824219\n",
            "Iteration 6000, Epoch 8, Loss: 1.1557228565216064, Accuracy: 79.37940216064453, Val Loss: 1.1883764266967773, Val Accuracy: 75.70000457763672\n",
            "Iteration 6500, Epoch 9, Loss: 1.0796890258789062, Accuracy: 80.29071807861328, Val Loss: 1.1369972229003906, Val Accuracy: 76.70000457763672\n",
            "Iteration 7000, Epoch 10, Loss: 0.9968532919883728, Accuracy: 82.08235931396484, Val Loss: 1.0864100456237793, Val Accuracy: 76.5999984741211\n",
            "Iteration 7500, Epoch 10, Loss: 0.9938251972198486, Accuracy: 81.40444946289062, Val Loss: 1.0416128635406494, Val Accuracy: 77.80000305175781\n",
            "[10.8, 32.100002, 45.6, 54.7, 58.1, 62.4, 65.8, 68.3, 69.4, 70.700005, 72.799995, 73.7, 75.700005, 76.700005, 76.6, 77.8]\n"
          ]
        },
        {
          "output_type": "display_data",
          "data": {
            "text/plain": [
              "<Figure size 1000x600 with 1 Axes>"
            ],
            "image/png": "[encoded data removed]"
          },
          "metadata": {}
        }
      ],
      "source": [
        "# Создаем список цветов для каждого эксперимента\n",
        "colors = ['b', 'g', 'r', 'c', 'm', 'y', 'k', 'orange', 'purple']\n",
        "\n",
        "# Создаем пустой словарь для сохранения истории точности каждого эксперимента\n",
        "accuracy_history = {}\n",
        "\n",
        "# Запускаем эксперименты\n",
        "for i, config in enumerate(configs):\n",
        "    print(\"\\nExperiment with model:\", config[\"model\"], \"| optimizer:\", config[\"optimizer\"], \"| learning rate:\", config[\"learning_rate\"])\n",
        "    history = train_model(lambda: model_init_fn(config[\"model\"]), lambda: optimizer_init_fn(config[\"optimizer\"], config[\"learning_rate\"]), num_epochs, print_every)\n",
        "    accuracy_history[config[\"model\"] + \"_\" + config[\"optimizer\"]] = history\n",
        "\n",
        "# Создаем график\n",
        "plt.figure(figsize=(10, 6))\n",
        "\n",
        "# Для каждого эксперимента строим график точности на валидационной выборке\n",
        "for i, config in enumerate(configs):\n",
        "    model_name = config[\"model\"]\n",
        "    optimizer_name = config[\"optimizer\"]\n",
        "    history = accuracy_history[model_name + \"_\" + optimizer_name]\n",
        "    plt.plot(range(len(history)), history, label=model_name + \"_\" + optimizer_name, color=colors[i])\n",
        "\n",
        "# Настройки графика\n",
        "plt.title('Validation Accuracy vs. Iteration')\n",
        "plt.xlabel('Iteration')\n",
        "plt.ylabel('Accuracy')\n",
        "plt.legend(loc='lower right')\n",
        "plt.grid(True)\n",
        "\n",
        "# Отображаем график\n",
        "plt.show()"
      ]
    },
    {
      "cell_type": "markdown",
      "metadata": {
        "id": "JdgUDzp1j38o"
      },
      "source": [
        "Опишите все эксперименты, результаты. Сделайте выводы."
      ]
    },
    {
      "cell_type": "markdown",
      "source": [
        "\n",
        "В общем, можно отметить, что точность моделей значительно улучшается с увеличением числа эпох обучения, что является типичным поведением. Кроме того, значения learning rate и выбор оптимизатора также оказывают влияние на скорость обучения и достигаемую точность.\n",
        "\n",
        "Например, модель CustomConvNet_B_D с оптимизатором Adam и learning rate 0.001 достигает точности около 97.5% после 10 эпох обучения, в то время как та же модель с learning rate 0.0001 достигает примерно 97.2% точности. Это показывает, что learning rate 0.001 дает лучший результат для данной модели и оптимизатора.\n",
        "\n",
        "С другой стороны, модель CustomConvNet с оптимизатором SGD и learning rate 0.001 показывает точность около 95.1% после 10 эпох, в то время как точность CustomConvNet с оптимизатором Adam и тем же learning rate достигает около 97.4% после той же продолжительности обучения."
      ],
      "metadata": {
        "id": "71axc1tTbufG"
      }
    },
    {
      "cell_type": "code",
      "execution_count": null,
      "metadata": {
        "id": "Yor9_hWZj38o"
      },
      "outputs": [],
      "source": []
    }
  ],
  "metadata": {
    "kernelspec": {
      "display_name": "Python 3 (ipykernel)",
      "language": "python",
      "name": "python3"
    },
    "language_info": {
      "codemirror_mode": {
        "name": "ipython",
        "version": 3
      },
      "file_extension": ".py",
      "mimetype": "text/x-python",
      "name": "python",
      "nbconvert_exporter": "python",
      "pygments_lexer": "ipython3",
      "version": "3.8.8"
    },
    "colab": {
      "provenance": []
    }
  },
  "nbformat": 4,
  "nbformat_minor": 0
}